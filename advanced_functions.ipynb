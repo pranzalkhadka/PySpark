{
 "cells": [
  {
   "cell_type": "code",
   "execution_count": 1,
   "metadata": {},
   "outputs": [],
   "source": [
    "from pyspark.sql import SparkSession"
   ]
  },
  {
   "cell_type": "code",
   "execution_count": 2,
   "metadata": {},
   "outputs": [
    {
     "name": "stderr",
     "output_type": "stream",
     "text": [
      "Setting default log level to \"WARN\".\n",
      "To adjust logging level use sc.setLogLevel(newLevel). For SparkR, use setLogLevel(newLevel).\n",
      "24/04/29 16:13:38 WARN NativeCodeLoader: Unable to load native-hadoop library for your platform... using builtin-java classes where applicable\n",
      "24/04/29 16:13:39 WARN Utils: Service 'SparkUI' could not bind on port 4040. Attempting port 4041.\n",
      "24/04/29 16:13:39 WARN Utils: Service 'SparkUI' could not bind on port 4041. Attempting port 4042.\n"
     ]
    }
   ],
   "source": [
    "spark = SparkSession.builder.appName(\"spark_filter\").getOrCreate()"
   ]
  },
  {
   "cell_type": "code",
   "execution_count": 3,
   "metadata": {},
   "outputs": [],
   "source": [
    "df = spark.read.csv(\"data2.csv\", header=True, inferSchema=True)"
   ]
  },
  {
   "cell_type": "code",
   "execution_count": 4,
   "metadata": {},
   "outputs": [
    {
     "name": "stdout",
     "output_type": "stream",
     "text": [
      "+----+----+----------+-----------+\n",
      "|city|year|weekofyear|total_cases|\n",
      "+----+----+----------+-----------+\n",
      "|  sj|1990|        18|          4|\n",
      "|  sj|1990|        19|          5|\n",
      "|  sj|1990|        20|          4|\n",
      "|  sj|1990|        21|          3|\n",
      "|  sj|1990|        22|          6|\n",
      "+----+----+----------+-----------+\n",
      "only showing top 5 rows\n",
      "\n"
     ]
    }
   ],
   "source": [
    "df.show(5)"
   ]
  },
  {
   "cell_type": "markdown",
   "metadata": {},
   "source": [
    "Filter"
   ]
  },
  {
   "cell_type": "code",
   "execution_count": 5,
   "metadata": {},
   "outputs": [
    {
     "name": "stdout",
     "output_type": "stream",
     "text": [
      "+----+----+----------+-----------+\n",
      "|city|year|weekofyear|total_cases|\n",
      "+----+----+----------+-----------+\n",
      "|  sj|1990|        31|         17|\n",
      "|  sj|1990|        32|         23|\n",
      "|  sj|1990|        33|         13|\n",
      "|  sj|1990|        34|         21|\n",
      "|  sj|1990|        35|         28|\n",
      "+----+----+----------+-----------+\n",
      "only showing top 5 rows\n",
      "\n"
     ]
    }
   ],
   "source": [
    "df.filter(\"weekofyear > 30\").show(5)"
   ]
  },
  {
   "cell_type": "code",
   "execution_count": 11,
   "metadata": {},
   "outputs": [
    {
     "name": "stdout",
     "output_type": "stream",
     "text": [
      "+----+----+----------+-----------+\n",
      "|city|year|weekofyear|total_cases|\n",
      "+----+----+----------+-----------+\n",
      "|  sj|1990|        18|          4|\n",
      "|  sj|1990|        19|          5|\n",
      "|  sj|1990|        20|          4|\n",
      "|  sj|1990|        21|          3|\n",
      "|  sj|1990|        22|          6|\n",
      "+----+----+----------+-----------+\n",
      "only showing top 5 rows\n",
      "\n"
     ]
    }
   ],
   "source": [
    "df.filter(~(df[\"weekofyear\"] > 30)).show(5)"
   ]
  },
  {
   "cell_type": "code",
   "execution_count": 12,
   "metadata": {},
   "outputs": [
    {
     "name": "stdout",
     "output_type": "stream",
     "text": [
      "+----------+-----------+\n",
      "|weekofyear|total_cases|\n",
      "+----------+-----------+\n",
      "|        31|         17|\n",
      "|        32|         23|\n",
      "|        33|         13|\n",
      "|        34|         21|\n",
      "|        35|         28|\n",
      "+----------+-----------+\n",
      "only showing top 5 rows\n",
      "\n"
     ]
    }
   ],
   "source": [
    "df.filter(\"weekofyear > 30\").select(['weekofyear', 'total_cases']).show(5)"
   ]
  },
  {
   "cell_type": "code",
   "execution_count": 13,
   "metadata": {},
   "outputs": [
    {
     "name": "stdout",
     "output_type": "stream",
     "text": [
      "+----+----+----------+-----------+\n",
      "|city|year|weekofyear|total_cases|\n",
      "+----+----+----------+-----------+\n",
      "|  sj|1990|        31|         17|\n",
      "|  sj|1990|        33|         13|\n",
      "|  sj|1993|        31|         17|\n",
      "|  sj|1993|        34|         12|\n",
      "|  sj|1993|        38|         18|\n",
      "+----+----+----------+-----------+\n",
      "only showing top 5 rows\n",
      "\n"
     ]
    }
   ],
   "source": [
    "df.filter((df[\"weekofyear\"] > 30) & (df[\"total_cases\"] < 20)).show(5)"
   ]
  },
  {
   "cell_type": "markdown",
   "metadata": {},
   "source": [
    "Groupby"
   ]
  },
  {
   "cell_type": "code",
   "execution_count": 17,
   "metadata": {},
   "outputs": [
    {
     "name": "stdout",
     "output_type": "stream",
     "text": [
      "+----+-----+\n",
      "|year|count|\n",
      "+----+-----+\n",
      "|1990|   35|\n",
      "|2003|  104|\n",
      "|2007|  104|\n",
      "|2006|  104|\n",
      "|1997|   52|\n",
      "+----+-----+\n",
      "only showing top 5 rows\n",
      "\n"
     ]
    }
   ],
   "source": [
    "df.groupBy(\"year\").count().show(5)"
   ]
  },
  {
   "cell_type": "code",
   "execution_count": 18,
   "metadata": {},
   "outputs": [
    {
     "name": "stdout",
     "output_type": "stream",
     "text": [
      "+----+---------+---------------+----------------+\n",
      "|year|sum(year)|sum(weekofyear)|sum(total_cases)|\n",
      "+----+---------+---------------+----------------+\n",
      "|1990|    69650|           1225|             866|\n",
      "|2003|   208312|           2756|            1063|\n",
      "|2007|   208728|           2756|            2334|\n",
      "|2006|   208624|           2756|             986|\n",
      "|1997|   103844|           1378|            1454|\n",
      "+----+---------+---------------+----------------+\n",
      "only showing top 5 rows\n",
      "\n"
     ]
    }
   ],
   "source": [
    "df.groupBy(\"year\").sum().show(5)"
   ]
  },
  {
   "cell_type": "code",
   "execution_count": 19,
   "metadata": {},
   "outputs": [
    {
     "name": "stdout",
     "output_type": "stream",
     "text": [
      "+----------------+\n",
      "|sum(total_cases)|\n",
      "+----------------+\n",
      "|           35927|\n",
      "+----------------+\n",
      "\n"
     ]
    }
   ],
   "source": [
    "df.agg({\"total_cases\": \"sum\"}).show(5)"
   ]
  },
  {
   "cell_type": "code",
   "execution_count": null,
   "metadata": {},
   "outputs": [],
   "source": []
  }
 ],
 "metadata": {
  "kernelspec": {
   "display_name": "venv",
   "language": "python",
   "name": "python3"
  },
  "language_info": {
   "codemirror_mode": {
    "name": "ipython",
    "version": 3
   },
   "file_extension": ".py",
   "mimetype": "text/x-python",
   "name": "python",
   "nbconvert_exporter": "python",
   "pygments_lexer": "ipython3",
   "version": "3.10.12"
  }
 },
 "nbformat": 4,
 "nbformat_minor": 2
}
