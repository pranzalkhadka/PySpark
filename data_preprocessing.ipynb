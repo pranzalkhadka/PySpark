{
 "cells": [
  {
   "cell_type": "code",
   "execution_count": 35,
   "metadata": {},
   "outputs": [],
   "source": [
    "from pyspark.sql import SparkSession"
   ]
  },
  {
   "cell_type": "code",
   "execution_count": 37,
   "metadata": {},
   "outputs": [],
   "source": [
    "spark = SparkSession.builder.appName(\"practice\").getOrCreate()"
   ]
  },
  {
   "cell_type": "code",
   "execution_count": 69,
   "metadata": {},
   "outputs": [],
   "source": [
    "df = spark.read.csv(\"data.csv\", header=True, inferSchema=True)"
   ]
  },
  {
   "cell_type": "code",
   "execution_count": 70,
   "metadata": {},
   "outputs": [
    {
     "name": "stdout",
     "output_type": "stream",
     "text": [
      "+----+----+----------+-----------+\n",
      "|city|year|weekofyear|total_cases|\n",
      "+----+----+----------+-----------+\n",
      "|  sj|1990|        18|          4|\n",
      "|  sj|1990|        19|          5|\n",
      "|  sj|1990|        20|       NULL|\n",
      "+----+----+----------+-----------+\n",
      "only showing top 3 rows\n",
      "\n"
     ]
    }
   ],
   "source": [
    "df.show(3)"
   ]
  },
  {
   "cell_type": "markdown",
   "metadata": {},
   "source": [
    "Drop row based on null values"
   ]
  },
  {
   "cell_type": "code",
   "execution_count": 13,
   "metadata": {},
   "outputs": [],
   "source": [
    "df = df.na.drop()"
   ]
  },
  {
   "cell_type": "code",
   "execution_count": 14,
   "metadata": {},
   "outputs": [
    {
     "name": "stdout",
     "output_type": "stream",
     "text": [
      "+----+----+----------+-----------+\n",
      "|city|year|weekofyear|total_cases|\n",
      "+----+----+----------+-----------+\n",
      "|  sj|1990|        18|          4|\n",
      "|  sj|1990|        19|          5|\n",
      "|  sj|1990|        21|          3|\n",
      "+----+----+----------+-----------+\n",
      "only showing top 3 rows\n",
      "\n"
     ]
    }
   ],
   "source": [
    "df.show(3)"
   ]
  },
  {
   "cell_type": "code",
   "execution_count": 15,
   "metadata": {},
   "outputs": [],
   "source": [
    "# Drop those rows where all values are null\n",
    "# df = df.na.drop(how=\"all\")\n",
    "\n",
    "# Drop those rows where any value is null\n",
    "# df = df.na.drop(how=\"any\")\n",
    "\n",
    "# Drop those rows where at least 2 values are null\n",
    "# df = df.na.drop(how=\"any\", thresh=2)"
   ]
  },
  {
   "cell_type": "markdown",
   "metadata": {},
   "source": [
    "Handle missing values"
   ]
  },
  {
   "cell_type": "code",
   "execution_count": 61,
   "metadata": {},
   "outputs": [],
   "source": [
    "df = df.na.fill(404)"
   ]
  },
  {
   "cell_type": "code",
   "execution_count": 66,
   "metadata": {},
   "outputs": [
    {
     "name": "stdout",
     "output_type": "stream",
     "text": [
      "+----+----+----------+-----------+\n",
      "|city|year|weekofyear|total_cases|\n",
      "+----+----+----------+-----------+\n",
      "|  sj|1990|        18|          4|\n",
      "|  sj|1990|        19|          5|\n",
      "|  sj|1990|        20|        404|\n",
      "|  sj|1990|        21|          3|\n",
      "|  sj|1990|        22|          6|\n",
      "+----+----+----------+-----------+\n",
      "only showing top 5 rows\n",
      "\n"
     ]
    }
   ],
   "source": [
    "df.show(5)"
   ]
  },
  {
   "cell_type": "code",
   "execution_count": 65,
   "metadata": {},
   "outputs": [],
   "source": [
    "# Fill missing values only in specific columns\n",
    "df = df.na.fill(404, 'total_cases')"
   ]
  },
  {
   "cell_type": "code",
   "execution_count": 71,
   "metadata": {},
   "outputs": [],
   "source": [
    "# Handle missing values with mean of the column\n",
    "from pyspark.ml.feature import Imputer\n",
    "\n",
    "imputer = Imputer(strategy='mean', inputCols=['total_cases','weekofyear'], outputCols=['total_cases_imputed', 'weekofyear_imputed'])"
   ]
  },
  {
   "cell_type": "code",
   "execution_count": 72,
   "metadata": {},
   "outputs": [
    {
     "name": "stdout",
     "output_type": "stream",
     "text": [
      "+----+----+----------+-----------+-------------------+------------------+\n",
      "|city|year|weekofyear|total_cases|total_cases_imputed|weekofyear_imputed|\n",
      "+----+----+----------+-----------+-------------------+------------------+\n",
      "|  sj|1990|        18|          4|                  4|                18|\n",
      "|  sj|1990|        19|          5|                  5|                19|\n",
      "|  sj|1990|        20|       NULL|                 24|                20|\n",
      "|  sj|1990|        21|          3|                  3|                21|\n",
      "|  sj|1990|        22|          6|                  6|                22|\n",
      "+----+----+----------+-----------+-------------------+------------------+\n",
      "only showing top 5 rows\n",
      "\n"
     ]
    }
   ],
   "source": [
    "imputer.fit(df).transform(df).show(5)"
   ]
  },
  {
   "cell_type": "code",
   "execution_count": null,
   "metadata": {},
   "outputs": [],
   "source": []
  }
 ],
 "metadata": {
  "kernelspec": {
   "display_name": "venv",
   "language": "python",
   "name": "python3"
  },
  "language_info": {
   "codemirror_mode": {
    "name": "ipython",
    "version": 3
   },
   "file_extension": ".py",
   "mimetype": "text/x-python",
   "name": "python",
   "nbconvert_exporter": "python",
   "pygments_lexer": "ipython3",
   "version": "3.10.12"
  }
 },
 "nbformat": 4,
 "nbformat_minor": 2
}
